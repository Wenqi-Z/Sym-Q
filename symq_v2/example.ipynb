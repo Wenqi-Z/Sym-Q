{
 "cells": [
  {
   "cell_type": "code",
   "execution_count": 1,
   "metadata": {},
   "outputs": [],
   "source": [
    "import numpy as np\n",
    "\n",
    "from regressor import SymQRegressor\n",
    "from util import generateDataFast"
   ]
  },
  {
   "cell_type": "markdown",
   "metadata": {},
   "source": [
    "## Data Generation"
   ]
  },
  {
   "cell_type": "code",
   "execution_count": 2,
   "metadata": {},
   "outputs": [],
   "source": [
    "# Create points from an equation\n",
    "eq = \"x_1 + x_2\"\n",
    "n_points = 100\n",
    "n_vars = 2\n",
    "\n",
    "X, y = generateDataFast(eq, n_points, n_vars, 8, -10, 10)"
   ]
  },
  {
   "cell_type": "code",
   "execution_count": 3,
   "metadata": {},
   "outputs": [
    {
     "name": "stdout",
     "output_type": "stream",
     "text": [
      "X shape:  (100, 2)\n",
      "y shape:  (100,)\n"
     ]
    }
   ],
   "source": [
    "print(\"X shape: \", X.shape)\n",
    "print(\"y shape: \", y.shape)"
   ]
  },
  {
   "cell_type": "markdown",
   "metadata": {},
   "source": [
    "## Symbolic Regression"
   ]
  },
  {
   "cell_type": "code",
   "execution_count": 4,
   "metadata": {},
   "outputs": [
    {
     "name": "stdout",
     "output_type": "stream",
     "text": [
      "Ground truth: x_1 + x_2\n",
      "Agent's prediction: x_1 + x_2\n"
     ]
    }
   ],
   "source": [
    "regressor = SymQRegressor()\n",
    "regressor.fit(X, y)\n",
    "eq_pred = regressor.sympy_expr\n",
    "print(f\"Ground truth: {eq}\")\n",
    "print(f\"Agent's prediction: {eq_pred}\")"
   ]
  },
  {
   "cell_type": "code",
   "execution_count": 5,
   "metadata": {},
   "outputs": [
    {
     "name": "stdout",
     "output_type": "stream",
     "text": [
      "R2: 1.0\n",
      "MSE: 0.0\n"
     ]
    }
   ],
   "source": [
    "y_pred = regressor.predict(X)\n",
    "r2 = 1 - np.sum((y_pred - y) ** 2) / np.sum((y - np.mean(y)) ** 2)\n",
    "mse = np.mean((y_pred - y) ** 2)\n",
    "print(f\"R2: {r2}\")\n",
    "print(f\"MSE: {mse}\")"
   ]
  }
 ],
 "metadata": {
  "kernelspec": {
   "display_name": "symq",
   "language": "python",
   "name": "python3"
  },
  "language_info": {
   "codemirror_mode": {
    "name": "ipython",
    "version": 3
   },
   "file_extension": ".py",
   "mimetype": "text/x-python",
   "name": "python",
   "nbconvert_exporter": "python",
   "pygments_lexer": "ipython3",
   "version": "3.9.20"
  }
 },
 "nbformat": 4,
 "nbformat_minor": 2
}
